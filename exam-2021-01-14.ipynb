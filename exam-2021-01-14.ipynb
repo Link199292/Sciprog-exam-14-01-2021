{
 "cells": [
  {
   "cell_type": "markdown",
   "metadata": {},
   "source": [
    "# Exam -  Tue 14, Jan 2021 EXERCISES\n",
    "\n",
    "**Scientific Programming - Data Science Master @ University of Trento**\n",
    "\n",
    "\n",
    "## Download [exercises and solutions](_static/generated/sciprog-ds-2021-01-14-exam.zip)\n"
   ]
  },
  {
   "cell_type": "markdown",
   "metadata": {},
   "source": [
    "## Part A - Witchcraft\n",
    "\n",
    "The early sixteenth century saw a dramatic rise in awareness and terror of witchcraft in the troubled lands of [early modern Scotland](https://www.youtube.com/watch?v=4s9Hd8onAKQ): thousands of people were executed, imprisoned, tortured, banished, and had lands and possessions confiscated. Persecution took place in courts of law: you shall analyze the evidence gathered during those dark days.\n",
    "\n",
    "Data source: Julian Goodare, Lauren Martin, Joyce Miller and Louise Yeoman, 'The Survey of Scottish Witchcraft'  http://www.shca.ed.ac.uk/witches/  (archived January 2003, accessed ’11/1/2016’).\n",
    "\n",
    "In particular, we took [WDB_Case.csv](WDB_Case.csv) as published on [data.world](https://data.world/history/scottish-witchcraft), which contains cases brought against suspected witches, along with annotations by researchers, mostly as boolean fields.\n",
    "\n",
    "The dataset has lots of columns, we show here only the relevant ones `Case_date`, `CaseCommonName`, `Suspects_text` and an excerpt of the many boolean columns:"
   ]
  },
  {
   "cell_type": "code",
   "execution_count": 1,
   "metadata": {},
   "outputs": [],
   "source": [
    "import pandas as pd\n",
    "case_df = pd.read_csv('WDB_Case.csv', encoding='UTF-8')"
   ]
  },
  {
   "cell_type": "code",
   "execution_count": 2,
   "metadata": {
    "scrolled": true
   },
   "outputs": [
    {
     "data": {
      "text/html": [
       "<div>\n",
       "<style scoped>\n",
       "    .dataframe tbody tr th:only-of-type {\n",
       "        vertical-align: middle;\n",
       "    }\n",
       "\n",
       "    .dataframe tbody tr th {\n",
       "        vertical-align: top;\n",
       "    }\n",
       "\n",
       "    .dataframe thead th {\n",
       "        text-align: right;\n",
       "    }\n",
       "</style>\n",
       "<table border=\"1\" class=\"dataframe\">\n",
       "  <thead>\n",
       "    <tr style=\"text-align: right;\">\n",
       "      <th></th>\n",
       "      <th>Case_date</th>\n",
       "      <th>CaseCommonName</th>\n",
       "      <th>Suspects_text</th>\n",
       "      <th>Demonic_p</th>\n",
       "      <th>Demonic_s</th>\n",
       "      <th>Maleficium_p</th>\n",
       "      <th>Maleficium_s</th>\n",
       "      <th>WitchesMeeting</th>\n",
       "    </tr>\n",
       "  </thead>\n",
       "  <tbody>\n",
       "    <tr>\n",
       "      <th>1986</th>\n",
       "      <td>29/6/1649</td>\n",
       "      <td>3 unnamed witches</td>\n",
       "      <td>3.0</td>\n",
       "      <td>0</td>\n",
       "      <td>0</td>\n",
       "      <td>0</td>\n",
       "      <td>0</td>\n",
       "      <td>0</td>\n",
       "    </tr>\n",
       "    <tr>\n",
       "      <th>1987</th>\n",
       "      <td>19/8/1590</td>\n",
       "      <td>Leslie,William</td>\n",
       "      <td>NaN</td>\n",
       "      <td>0</td>\n",
       "      <td>0</td>\n",
       "      <td>0</td>\n",
       "      <td>1</td>\n",
       "      <td>0</td>\n",
       "    </tr>\n",
       "    <tr>\n",
       "      <th>1988</th>\n",
       "      <td>1679</td>\n",
       "      <td>McGuffock,Margaret</td>\n",
       "      <td>NaN</td>\n",
       "      <td>0</td>\n",
       "      <td>0</td>\n",
       "      <td>0</td>\n",
       "      <td>1</td>\n",
       "      <td>0</td>\n",
       "    </tr>\n",
       "    <tr>\n",
       "      <th>1989</th>\n",
       "      <td>1679</td>\n",
       "      <td>Rae,Grissell</td>\n",
       "      <td>NaN</td>\n",
       "      <td>0</td>\n",
       "      <td>0</td>\n",
       "      <td>0</td>\n",
       "      <td>0</td>\n",
       "      <td>0</td>\n",
       "    </tr>\n",
       "    <tr>\n",
       "      <th>1990</th>\n",
       "      <td>1679</td>\n",
       "      <td>Howat,Jonet</td>\n",
       "      <td>NaN</td>\n",
       "      <td>0</td>\n",
       "      <td>0</td>\n",
       "      <td>0</td>\n",
       "      <td>0</td>\n",
       "      <td>0</td>\n",
       "    </tr>\n",
       "    <tr>\n",
       "      <th>1991</th>\n",
       "      <td>15/10/1673</td>\n",
       "      <td>McNicol,Janet</td>\n",
       "      <td>NaN</td>\n",
       "      <td>1</td>\n",
       "      <td>1</td>\n",
       "      <td>0</td>\n",
       "      <td>1</td>\n",
       "      <td>1</td>\n",
       "    </tr>\n",
       "    <tr>\n",
       "      <th>1992</th>\n",
       "      <td>4/6/1674</td>\n",
       "      <td>Clerk,Margaret</td>\n",
       "      <td>NaN</td>\n",
       "      <td>0</td>\n",
       "      <td>0</td>\n",
       "      <td>0</td>\n",
       "      <td>0</td>\n",
       "      <td>0</td>\n",
       "    </tr>\n",
       "    <tr>\n",
       "      <th>1993</th>\n",
       "      <td>29/7/1675</td>\n",
       "      <td>Hendrie,Agnes</td>\n",
       "      <td>NaN</td>\n",
       "      <td>0</td>\n",
       "      <td>1</td>\n",
       "      <td>0</td>\n",
       "      <td>0</td>\n",
       "      <td>1</td>\n",
       "    </tr>\n",
       "  </tbody>\n",
       "</table>\n",
       "</div>"
      ],
      "text/plain": [
       "       Case_date      CaseCommonName  Suspects_text  Demonic_p  Demonic_s  \\\n",
       "1986   29/6/1649   3 unnamed witches            3.0          0          0   \n",
       "1987   19/8/1590      Leslie,William            NaN          0          0   \n",
       "1988        1679  McGuffock,Margaret            NaN          0          0   \n",
       "1989        1679        Rae,Grissell            NaN          0          0   \n",
       "1990        1679         Howat,Jonet            NaN          0          0   \n",
       "1991  15/10/1673       McNicol,Janet            NaN          1          1   \n",
       "1992    4/6/1674      Clerk,Margaret            NaN          0          0   \n",
       "1993   29/7/1675       Hendrie,Agnes            NaN          0          1   \n",
       "\n",
       "      Maleficium_p  Maleficium_s  WitchesMeeting  \n",
       "1986             0             0               0  \n",
       "1987             0             1               0  \n",
       "1988             0             1               0  \n",
       "1989             0             0               0  \n",
       "1990             0             0               0  \n",
       "1991             0             1               1  \n",
       "1992             0             0               0  \n",
       "1993             0             0               1  "
      ]
     },
     "execution_count": 2,
     "metadata": {},
     "output_type": "execute_result"
    }
   ],
   "source": [
    "sel_case_df = case_df[['Case_date', 'CaseCommonName', 'Suspects_text', 'Demonic_p', 'Demonic_s', 'Maleficium_p','Maleficium_s', 'WitchesMeeting']]\n",
    "sel_case_df[1986:1994]"
   ]
  },
  {
   "cell_type": "markdown",
   "metadata": {},
   "source": [
    "## A1 parse_bool_cols\n",
    "\n",
    "Open Jupyter and start editing this notebook `exam-2021-01-14.ipynb`\n",
    "\n",
    "Since boolean columns are so many, as a first step you will build a recognizer for them. \n",
    "\n",
    "* Consider a column as boolean if **all** of its values are either `0` or `1`. \n",
    "* Parse with [CSV DictReader](https://en.softpython.org/formats/formats-sol.html#Reading-as-dictionaries)"
   ]
  },
  {
   "cell_type": "code",
   "execution_count": 139,
   "metadata": {},
   "outputs": [
    {
     "name": "stdout",
     "output_type": "stream",
     "text": [
      "Found 77 cols. EXCERPT: \n",
      "AdmitLesserCharge AggravatingDisease AnimalDeath AnimalIllness ClaimedBewitched ClaimedNaturalCauses ClaimedPossessed CommunalSex Consulting_p Consulting_s Cursing Dancing DemonicPact Demonic_p Demonic_possess_p Demonic_possess_s Demonic_s ...\n"
     ]
    }
   ],
   "source": [
    "import csv\n",
    "\n",
    "def get_bool_cols(filename):\n",
    "    \"\"\"RETURN a sorted list of all the names of boolean columns\"\"\"\n",
    "    with open(filename, encoding = 'utf-8', newline = '') as r:\n",
    "        ret = []\n",
    "        reader = csv.DictReader(r, delimiter = ',')\n",
    "        count = 0 \n",
    "        for diz in reader:\n",
    "            if count == 5: #going to check the first 5 lines\n",
    "                break\n",
    "            for key in diz:\n",
    "                if diz[key] == '0' or diz[key] == '1':\n",
    "                    if key not in ret:\n",
    "                        ret.append(key)\n",
    "                else:\n",
    "                    if key in ret:\n",
    "                        ret.remove(key)\n",
    "            count += 1\n",
    "    return sorted(ret)\n",
    "\n",
    "bool_cols = get_bool_cols('WDB_Case.csv')\n",
    "print('Found', len(bool_cols), 'cols.', 'EXCERPT: ',)\n",
    "print( ' '.join(bool_cols[:17]), '...')\n",
    "\n",
    "from expected_bool_cols import expected_bool_cols\n",
    "assert bool_cols == expected_bool_cols"
   ]
  },
  {
   "cell_type": "markdown",
   "metadata": {},
   "source": [
    "## A2 fix_date\n",
    "\n",
    "Implement `fix_date`, which takes a possibly partial date as a string `m/d/yyyy` and RETURN a string formatted as `dd/mm/yyyy`. If data is missing, omits it in the output as well, see examples."
   ]
  },
  {
   "cell_type": "code",
   "execution_count": 140,
   "metadata": {},
   "outputs": [],
   "source": [
    "def fix_date(d):\n",
    "    try:\n",
    "        x = d.split('/')\n",
    "        try:\n",
    "            m, d, y = x[0].strip(), x[1].strip(), x[2].strip()\n",
    "            if len(m) < 2 and len(d) < 2:\n",
    "                m = f'0{m}'\n",
    "                d = f'0{d}'\n",
    "            elif len(m) < 2:\n",
    "                m = f'0{m}'\n",
    "            elif len(d) < 2:\n",
    "                d = f'0{d}'\n",
    "            return f'{d}/{m}/{y}'\n",
    "        except:\n",
    "            m, y = x[0], x[1]\n",
    "            if len(m) < 2:\n",
    "                m = f'0{m}'\n",
    "            return f'{m}/{y}'\n",
    "    except:\n",
    "        return d\n",
    "\n",
    "assert fix_date('2/8/1649') == '08/02/1649'\n",
    "assert fix_date('25/4/1627') == '04/25/1627'\n",
    "assert fix_date('6/11/1629') == '11/06/1629'\n",
    "assert fix_date('12/1649') == '12/1649'\n",
    "assert fix_date('7/1652') == '07/1652'\n",
    "assert fix_date('1560') == '1560'\n",
    "assert fix_date('') == ''"
   ]
  },
  {
   "cell_type": "markdown",
   "metadata": {},
   "source": [
    "## A3 parse_db\n",
    "\n",
    "Given a CSV of cases, outputs a list of dictionaries, each representing a case with these fields:\n",
    "\n",
    "* `name`: the isolated name of the witch taken from `CaseCommonName` column if parseable, otherwise the full cell content\n",
    "* `surname`: the isolated surname of the witch taken from `CaseCommonName` column if parseable, otherwise empty string\n",
    "* `case_date`: `Case_date` column corrected with `fix_date`\n",
    "* `suspects`: number of suspects as **integer**,  to be taken from the column `Suspects_text`. If column is empty, use `1`\n",
    "\n",
    "`primary`, `secondary` and `tags` fields are to be filled with names of **boolean** columns for which the corresponding cell is marked with `'1'` according to these criteria:\n",
    "\n",
    "* `primary`: if a column ending with `_p` is marked `'1'`, this field contains that column name without the `'_p'`. If column name is `'NotEnoughInfo_p'` or in other cases, use `None`.\n",
    "* `secondary`: **sorted** column names ending with `_s`. If col name is `'NotEnoughInfo_s'` or it's already present as `primary`, it's discarded. Remove trailing `_s` from values in the list.\n",
    "* `tags`: **sorted** column names which are not primary nor secondary \n",
    "\n",
    "Parse with [CSV DictReader](https://en.softpython.org/formats/formats-sol.html#Reading-as-dictionaries)"
   ]
  },
  {
   "cell_type": "code",
   "execution_count": 141,
   "metadata": {},
   "outputs": [],
   "source": [
    "import csv\n",
    "\n",
    "# Support functions:\n",
    "\n",
    "def get_name(s):\n",
    "        try:\n",
    "            surname, name = s.split(',')\n",
    "            if surname.lower().startswith('Unknown'):\n",
    "                return name.strip(), ''\n",
    "            else:\n",
    "                return name.strip(), surname.strip()\n",
    "        except:\n",
    "            return s.strip(), ''\n",
    "        \n",
    "def remove_trail(s):\n",
    "        s = s.replace('_s', '')\n",
    "        s = s.replace('_p', '')\n",
    "        return s\n",
    "    \n",
    "######################################################    \n",
    "\n",
    "def parse_db(filename):\n",
    "\n",
    "    ret = []\n",
    "    \n",
    "    filt = 'NotEnoughInfo'\n",
    "    with open(filename, encoding = 'utf-8', newline = '') as r:\n",
    "        reader = csv.DictReader(r, delimiter = ',')\n",
    "        for diz in reader:\n",
    "            name, surname = get_name(diz['CaseCommonName'])\n",
    "            case_date = fix_date(diz['Case_date'])\n",
    "            suspects = int(diz['Suspects_text']) if diz['Suspects_text'].strip() != '' else 1\n",
    "            primary = None\n",
    "            secondary = []\n",
    "            tags = []\n",
    "            tmp = {}\n",
    "            for key in diz:\n",
    "                x = remove_trail(key)\n",
    "                if x != filt:\n",
    "                    if diz[key] == '1':\n",
    "                        if key.endswith('_p'):\n",
    "                            primary = x\n",
    "                        if key.endswith('_s') and x != primary:\n",
    "                            secondary.append(x)\n",
    "                        if x != primary and x not in secondary:\n",
    "                            tags.append(x)\n",
    "            tmp['name'] = name\n",
    "            tmp['surname'] = surname\n",
    "            tmp['case_date'] = case_date\n",
    "            tmp['suspects'] = suspects\n",
    "            tmp['primary'] = primary\n",
    "            tmp['secondary'] = sorted(secondary)\n",
    "            tmp['tags'] = sorted(tags)\n",
    "            ret.append(tmp)\n",
    "    return ret\n",
    "\n",
    "cases_db = parse_db('WDB_Case.csv')"
   ]
  },
  {
   "cell_type": "markdown",
   "metadata": {},
   "source": [
    "**Example** (full output is in [expected_cases_db.py](expected_cases_db.py)):"
   ]
  },
  {
   "cell_type": "code",
   "execution_count": 142,
   "metadata": {},
   "outputs": [
    {
     "ename": "AssertionError",
     "evalue": "",
     "output_type": "error",
     "traceback": [
      "\u001b[1;31m---------------------------------------------------------------------------\u001b[0m",
      "\u001b[1;31mAssertionError\u001b[0m                            Traceback (most recent call last)",
      "\u001b[1;32m<ipython-input-142-232b9d39126a>\u001b[0m in \u001b[0;36m<module>\u001b[1;34m\u001b[0m\n\u001b[0;32m     29\u001b[0m \u001b[1;33m\u001b[0m\u001b[0m\n\u001b[0;32m     30\u001b[0m \u001b[1;32mfrom\u001b[0m \u001b[0mexpected_cases_db\u001b[0m \u001b[1;32mimport\u001b[0m \u001b[0mexpected_cases_db\u001b[0m\u001b[1;33m\u001b[0m\u001b[1;33m\u001b[0m\u001b[0m\n\u001b[1;32m---> 31\u001b[1;33m \u001b[1;32massert\u001b[0m \u001b[0mcases_db\u001b[0m \u001b[1;33m==\u001b[0m \u001b[0mexpected_cases_db\u001b[0m\u001b[1;33m\u001b[0m\u001b[1;33m\u001b[0m\u001b[0m\n\u001b[0m",
      "\u001b[1;31mAssertionError\u001b[0m: "
     ]
    }
   ],
   "source": [
    "#MY COMMENT: fails with the last assert, didn't get why though.\n",
    "\n",
    "assert cases_db[0]['primary'] == None\n",
    "assert cases_db[0]['secondary'] == []\n",
    "assert cases_db[0]['name'] == '3 unnamed witches'\n",
    "assert cases_db[0]['surname'] == ''\n",
    "assert cases_db[0]['suspects'] == 3  # int !\n",
    "assert cases_db[0]['case_date'] == '08/02/1649'\n",
    "\n",
    "assert cases_db[1]['primary'] == None\n",
    "assert cases_db[1]['secondary'] ==  ['ImplicatedByAnother']\n",
    "assert cases_db[1]['tags'] ==  []\n",
    "assert cases_db[1]['name'] ==  'Cristine'\n",
    "assert cases_db[1]['surname'] ==  'Kerington'\n",
    "assert cases_db[1]['suspects'] ==  1    # Suspects_text is '', we put 1\n",
    "assert cases_db[1]['case_date'] == '05/08/1591'\n",
    "\n",
    "assert cases_db[1991]['primary'] == 'Demonic'\n",
    "#NOTE: since 'Demonic' is already 'primary', we removed it from 'secondary'\n",
    "assert cases_db[1991]['secondary'] == ['ImplicatedByAnother', 'Maleficium', 'UNorthodoxRelPract']\n",
    "assert cases_db[1991]['tags'] == ['DevilPresent', 'UnorthodoxReligiousPractice', 'WitchesMeeting']\n",
    "assert cases_db[1991]['name'] == 'Janet'\n",
    "assert cases_db[1991]['surname'] == 'McNicol'\n",
    "assert cases_db[1991]['suspects'] == 1    #  Suspects_text is '', we put 1\n",
    "assert cases_db[1991]['case_date'] == '10/15/1673'\n",
    "\n",
    "assert cases_db[0]['case_date'] == '08/02/1649'  # 2/8/1649\n",
    "assert cases_db[1143]['case_date'] == '1560'     # 1560\n",
    "assert cases_db[924]['case_date'] ==  '07/1652'  # 7/1652\n",
    "assert cases_db[491]['suspects'] == 15           # 15\n",
    "\n",
    "from expected_cases_db import expected_cases_db\n",
    "assert cases_db == expected_cases_db"
   ]
  },
  {
   "cell_type": "markdown",
   "metadata": {},
   "source": [
    "## A4 plot_cases\n",
    "\n",
    "Given the previously computed db, plot the number of cases per year.\n",
    "\n",
    "* plot the ticks with 10 years intervals, according to the actual data (**DO NOT use constants like** `1560` **!!**)\n",
    "* careful some cases have no year"
   ]
  },
  {
   "cell_type": "code",
   "execution_count": 145,
   "metadata": {},
   "outputs": [
    {
     "data": {
      "image/png": "[encoded data removed]",
      "text/plain": [
       "<Figure size 1296x432 with 1 Axes>"
      ]
     },
     "metadata": {
      "needs_background": "light"
     },
     "output_type": "display_data"
    }
   ],
   "source": [
    "def plot_cases(db):\n",
    "\n",
    "    count = {}\n",
    "\n",
    "    mn = 99999999\n",
    "    mx = 0\n",
    "    for diz in db:\n",
    "        d = diz['case_date']\n",
    "        if '/' in d:\n",
    "            d = d.split('/')[-1]\n",
    "        if d not in count:\n",
    "            count[d] = 1\n",
    "        else:\n",
    "            count[d] += 1\n",
    "        if d != '':\n",
    "            if int(d) < mn:\n",
    "                mn = int(d)\n",
    "            if int(d) > mx:\n",
    "                mx = int(d)\n",
    "\n",
    "    del count['']\n",
    "\n",
    "    my_sorted = sorted([(i, count[i]) for i in count], key = lambda x : x[0])\n",
    "\n",
    "    ticks = np.arange(mn, mx, 10)\n",
    "\n",
    "    x = [int(i[0]) for i in my_sorted]\n",
    "    y = [i[1] for i in my_sorted]\n",
    "\n",
    "\n",
    "    plt.figure(figsize = (18, 6))\n",
    "    plt.plot(x, y, color = 'purple')\n",
    "    plt.title('Witchcraft cases per year')\n",
    "    plt.xticks(ticks)\n",
    "    plt.xlabel('Year')\n",
    "    plt.ylabel('Number of cases')\n",
    "    plt.show()\n",
    "\n",
    "plot_cases(cases_db)    "
   ]
  },
  {
   "cell_type": "code",
   "execution_count": 10,
   "metadata": {},
   "outputs": [
    {
     "data": {
      "image/png": "[encoded data removed]",
      "text/plain": [
       "<Figure size 1296x360 with 1 Axes>"
      ]
     },
     "metadata": {
      "needs_background": "light"
     },
     "output_type": "display_data"
    }
   ],
   "source": [
    "plot_cases(cases_db)"
   ]
  },
  {
   "cell_type": "markdown",
   "metadata": {},
   "source": [
    "## Part B\n"
   ]
  },
  {
   "cell_type": "markdown",
   "metadata": {},
   "source": [
    "## B1.1 Theory - Complexity\n",
    "\n",
    "**Write the solution in separate `theory.txt` file**\n",
    "\n",
    "1.  Given a list $L$ of $n$ elements, please compute the asymptotic computational complexity of the following function, explaining your reasoning.\n",
    "\n",
    "```python\n",
    "\n",
    "\tdef my_fun(L):\n",
    "    \t\tn = len(L)\n",
    "    \t\tif n <= 1:\n",
    "        \t\treturn 1\n",
    "    \t\telse:\n",
    "        \t\tL1 = L[0:n//2]\n",
    "        \t\tL2 = L[n//2:]\n",
    "        \t\ta = my_fun(L1) + min(L1)\n",
    "        \t\tb = my_fun(L2) + min(L2)\n",
    "        \t\treturn max(a, b)\n",
    "```"
   ]
  },
  {
   "cell_type": "markdown",
   "metadata": {},
   "source": [
    "## B1.2 Theory - Graph\n",
    "\n",
    "Briefly describe what a BFS visit of a graph is. Please provide the order of visited nodes of a possible BFS visit on the following graph (starting from node 'a'):\n",
    "\n",
    "![bfs](img/bfs.jpg)"
   ]
  },
  {
   "cell_type": "markdown",
   "metadata": {},
   "source": [
    "## B2 Bank\n",
    "\n",
    "A bank stores all its transactions in a log: possible types of transactions are opening an account, transfering some amount of money, withdrawal, etc. For simplicity, we represent each transaction type with a character, and in the log which is a Python list we put only such characters (we don't care about their meaning).\n",
    "\n",
    "The bank knows some sequences of events are extremely rare, and probably denote suspicious activity. For simplicitly, we assume such sequences only contain two transactions and represent them in tuples called _biseqs_. \n",
    "\n",
    "**NOTE**: a biseq can occur multiple times, but you can consider the number of repetitions negligible with respect to log size."
   ]
  },
  {
   "cell_type": "markdown",
   "metadata": {},
   "source": [
    "**THESE EXERCISES ARE ABOUT CUSTOM INDEXING, NOT STRINGS: DO NOT** convert everything to a string, use regexes, nor use string methods like `.index()`, `.replace()`, etc"
   ]
  },
  {
   "cell_type": "markdown",
   "metadata": {},
   "source": [
    "## B2.1 constructor,  log and pos\n",
    " \n",
    "Implement following methods, adding some appropriate indexing data structure.\n",
    " \n",
    "```python \n",
    "\n",
    "class Bank:\n",
    "\n",
    "    def __init__(self):\n",
    "        \"\"\" Initializes an empty bank\n",
    "        \n",
    "            Add a data structure of your choice for indexing the log\n",
    "        \"\"\"\n",
    "        self._trans = []\n",
    "        raise Exception(\"TODO IMPLEMENT ME!\")\n",
    "        \n",
    "    def log(self, transaction):\n",
    "        \"\"\" Appends transaction to the log\n",
    "        \n",
    "            - REMEMBER to also update the index\n",
    "            - MUST EXECUTE IN O(1)\n",
    "        \"\"\"\n",
    "```        \n",
    " \n",
    "```python\n",
    "    def pos(self, biseq):\n",
    "        \"\"\" RETURN a NEW list with all the indeces where the sequence of \n",
    "            two transactions can be found\n",
    "        \n",
    "            - MUST execute in O(1)\n",
    "        \"\"\"\n",
    "```\n",
    "\n",
    "**Testing**: `python3 -m unittest bank_test.LogTest`\n",
    "\n",
    "**Example**:"
   ]
  },
  {
   "cell_type": "code",
   "execution_count": 11,
   "metadata": {},
   "outputs": [
    {
     "name": "stdout",
     "output_type": "stream",
     "text": [
      "Bank: \n"
     ]
    }
   ],
   "source": [
    "from bank_sol import *\n",
    "\n",
    "bank = Bank()\n",
    "print(bank)"
   ]
  },
  {
   "cell_type": "code",
   "execution_count": 12,
   "metadata": {},
   "outputs": [],
   "source": [
    "bank.log('a')"
   ]
  },
  {
   "cell_type": "code",
   "execution_count": 13,
   "metadata": {},
   "outputs": [
    {
     "name": "stdout",
     "output_type": "stream",
     "text": [
      "Bank: a\n"
     ]
    }
   ],
   "source": [
    "print(bank)"
   ]
  },
  {
   "cell_type": "code",
   "execution_count": 14,
   "metadata": {},
   "outputs": [
    {
     "name": "stdout",
     "output_type": "stream",
     "text": [
      "[]\n"
     ]
    }
   ],
   "source": [
    "print(bank.pos( ('a','b') ))  # <-- a biseq is a tuple"
   ]
  },
  {
   "cell_type": "code",
   "execution_count": 15,
   "metadata": {},
   "outputs": [],
   "source": [
    "bank.log('b')"
   ]
  },
  {
   "cell_type": "code",
   "execution_count": 16,
   "metadata": {},
   "outputs": [
    {
     "name": "stdout",
     "output_type": "stream",
     "text": [
      "[0]\n"
     ]
    }
   ],
   "source": [
    "print(bank.pos( ('a','b') ))"
   ]
  },
  {
   "cell_type": "code",
   "execution_count": 17,
   "metadata": {},
   "outputs": [
    {
     "name": "stdout",
     "output_type": "stream",
     "text": [
      "Bank: a,b,a,a,a,a,b\n"
     ]
    }
   ],
   "source": [
    "bank.log('a')\n",
    "bank.log('a')\n",
    "bank.log('a')\n",
    "bank.log('a')\n",
    "bank.log('b')\n",
    "print(bank)"
   ]
  },
  {
   "cell_type": "code",
   "execution_count": 18,
   "metadata": {},
   "outputs": [
    {
     "name": "stdout",
     "output_type": "stream",
     "text": [
      "[0, 5]\n"
     ]
    }
   ],
   "source": [
    "print(bank.pos(('a','b')))"
   ]
  },
  {
   "cell_type": "code",
   "execution_count": 19,
   "metadata": {},
   "outputs": [
    {
     "name": "stdout",
     "output_type": "stream",
     "text": [
      "[2, 3, 4]\n"
     ]
    }
   ],
   "source": [
    "print(bank.pos(('a','a')))"
   ]
  },
  {
   "cell_type": "markdown",
   "metadata": {},
   "source": [
    "## B2.2 revert\n",
    "\n",
    "```python\n",
    "    def revert(self):\n",
    "        \"\"\" Completely eliminates last transaction and RETURN it\n",
    "        \n",
    "            - if bank is empty, raises IndexError\n",
    "            \n",
    "            - REMEMBER to update any index referring to it\n",
    "            - *MUST* EXECUTE IN O(1)             \n",
    "        \"\"\"\n",
    "```\n",
    "**Testing**: `python3 -m unittest RevertTest`\n",
    "\n",
    "**Example:**"
   ]
  },
  {
   "cell_type": "code",
   "execution_count": 20,
   "metadata": {},
   "outputs": [
    {
     "name": "stdout",
     "output_type": "stream",
     "text": [
      "[0, 3]\n"
     ]
    }
   ],
   "source": [
    "bank = Bank()\n",
    "bank.log('a')\n",
    "bank.log('b')\n",
    "bank.log('c')\n",
    "bank.log('a')\n",
    "bank.log('b')\n",
    "print(bank.pos(('a','b')))"
   ]
  },
  {
   "cell_type": "code",
   "execution_count": 21,
   "metadata": {},
   "outputs": [
    {
     "data": {
      "text/plain": [
       "'b'"
      ]
     },
     "execution_count": 21,
     "metadata": {},
     "output_type": "execute_result"
    }
   ],
   "source": [
    "bank.revert()"
   ]
  },
  {
   "cell_type": "code",
   "execution_count": 22,
   "metadata": {},
   "outputs": [
    {
     "name": "stdout",
     "output_type": "stream",
     "text": [
      "Bank: a,b,c,a\n"
     ]
    }
   ],
   "source": [
    "print(bank)"
   ]
  },
  {
   "cell_type": "code",
   "execution_count": 23,
   "metadata": {},
   "outputs": [
    {
     "name": "stdout",
     "output_type": "stream",
     "text": [
      "[0]\n"
     ]
    }
   ],
   "source": [
    "print(bank.pos(('a','b')))"
   ]
  },
  {
   "cell_type": "markdown",
   "metadata": {},
   "source": [
    "##  B2.3 max_interval\n",
    "\n",
    "Typically, there is a biseq which triggers a period of suspicious activity, and there is another biseq which ends it. So given a start and an end biseq, the bank wants a report of all the transactions that happened in between:"
   ]
  },
  {
   "cell_type": "markdown",
   "metadata": {},
   "source": [
    "```python\n",
    "    def max_interval(self, bi_start, bi_end):\n",
    "        \"\"\" RETURN a list with all the transactions occurred between \n",
    "            the *largest* interval among bi-sequences bi_start and bi_end\n",
    "        \n",
    "            - bi_start and bi_end are EXCLUDED \n",
    "            - if bi_start / bi_end are not found, or if bi_end is before/includes bi_start, \n",
    "              raise LookupError\n",
    "            \n",
    "            - DO *NOT* MODIFY the data structure\n",
    "            - MUST EXECUTE IN O(k) where k is the length of the *largest* interval\n",
    "              you can return\n",
    "            - consider number of repetitions a negligible size\n",
    "        \"\"\"\n",
    "```\n",
    "**Testing**: `python -m unittest bank_test.MaxIntervalTest`\n",
    "\n",
    "**Example**: "
   ]
  },
  {
   "cell_type": "code",
   "execution_count": 24,
   "metadata": {},
   "outputs": [
    {
     "data": {
      "text/plain": [
       "['f', 'a', 'f', 'c', 'b']"
      ]
     },
     "execution_count": 24,
     "metadata": {},
     "output_type": "execute_result"
    }
   ],
   "source": [
    "bank = Bank()\n",
    "bank.log('c')\n",
    "bank.log('d')\n",
    "bank.log('c')\n",
    "bank.log('a')\n",
    "bank.log('b') # <--- b \n",
    "bank.log('e') #      e\n",
    "bank.log('f') #      --- f     |\n",
    "bank.log('a') #          a     |\n",
    "bank.log('f') #          f     | k\n",
    "bank.log('c') #          c     |\n",
    "bank.log('b') #      --- b     |\n",
    "bank.log('a') # <--- a \n",
    "bank.log('f') #      f\n",
    "bank.log('b')\n",
    "bank.log('e')\n",
    "bank.log('l')\n",
    "bank.max_interval( ('b','e'), ('a','f') )"
   ]
  },
  {
   "cell_type": "code",
   "execution_count": 25,
   "metadata": {
    "nbsphinx": "hidden"
   },
   "outputs": [
    {
     "name": "stderr",
     "output_type": "stream",
     "text": [
      ".................\n",
      "----------------------------------------------------------------------\n",
      "Ran 17 tests in 0.018s\n",
      "\n",
      "OK\n"
     ]
    }
   ],
   "source": [
    "#ignore this\n",
    "import jupman\n",
    "\n",
    "import bank_test \n",
    "jupman.run(bank_test)"
   ]
  },
  {
   "cell_type": "code",
   "execution_count": null,
   "metadata": {},
   "outputs": [],
   "source": []
  }
 ],
 "metadata": {
  "celltoolbar": "Edit Metadata",
  "kernelspec": {
   "display_name": "Python 3",
   "language": "python",
   "name": "python3"
  },
  "language_info": {
   "codemirror_mode": {
    "name": "ipython",
    "version": 3
   },
   "file_extension": ".py",
   "mimetype": "text/x-python",
   "name": "python",
   "nbconvert_exporter": "python",
   "pygments_lexer": "ipython3",
   "version": "3.8.5"
  },
  "toc": {
   "base_numbering": 1,
   "nav_menu": {},
   "number_sections": false,
   "sideBar": true,
   "skip_h1_title": false,
   "title_cell": "Table of Contents",
   "title_sidebar": "Contents",
   "toc_cell": false,
   "toc_position": {},
   "toc_section_display": true,
   "toc_window_display": true
  }
 },
 "nbformat": 4,
 "nbformat_minor": 4
}
